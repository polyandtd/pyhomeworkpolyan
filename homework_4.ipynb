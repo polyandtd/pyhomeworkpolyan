{
 "cells": [
  {
   "cell_type": "code",
   "execution_count": 2,
   "metadata": {},
   "outputs": [],
   "source": [
    "from datetime import datetime"
   ]
  },
  {
   "cell_type": "code",
   "execution_count": 3,
   "metadata": {},
   "outputs": [],
   "source": [
    "from datetime import timedelta"
   ]
  },
  {
   "cell_type": "markdown",
   "metadata": {},
   "source": [
    "**Задание 1**\n",
    "* Напишите функцию date_range, которая возвращает список дней между датами start_date и end_date. Даты должны вводиться в формате YYYY-MM-DD."
   ]
  },
  {
   "cell_type": "code",
   "execution_count": 4,
   "metadata": {},
   "outputs": [
    {
     "name": "stdout",
     "output_type": "stream",
     "text": [
      "Введите начальную дату в формате YYYY-MM-DD2019-01-01\n",
      "Введите конечную дату в формате YYYY-MM-DD2019-01-09\n",
      "02.01.2019\n",
      "03.01.2019\n",
      "04.01.2019\n",
      "05.01.2019\n",
      "06.01.2019\n",
      "07.01.2019\n",
      "08.01.2019\n"
     ]
    }
   ],
   "source": [
    "start_date = input('Введите начальную дату в формате YYYY-MM-DD') #'2019-09-01', '2019-09-07'\n",
    "end_date = input('Введите конечную дату в формате YYYY-MM-DD')\n",
    "\n",
    "\n",
    "start_date_dt = datetime.strptime(start_date, '%Y-%m-%d')\n",
    "end_date_dt = datetime.strptime(end_date, '%Y-%m-%d')\n",
    "\n",
    "current_dt = start_date_dt + timedelta(days=1)\n",
    "while current_dt < end_date_dt:\n",
    "    print((current_dt.strftime('%d.%m.%Y')))\n",
    "    \n",
    "    current_dt += timedelta(days=1)"
   ]
  },
  {
   "cell_type": "markdown",
   "metadata": {},
   "source": [
    "**Задание 2**\n",
    "* Дополните функцию из первого задания проверкой на корректность дат. В случае неверного формата или если start_date > end_date должен возвращаться пустой список."
   ]
  },
  {
   "cell_type": "code",
   "execution_count": 41,
   "metadata": {},
   "outputs": [
    {
     "name": "stdout",
     "output_type": "stream",
     "text": [
      "Введите данные в формате YYYY-MM-DD01-09-2019\n",
      "Введите данные в формате YYYY-MM-DD09-09-2019\n",
      "[]\n"
     ]
    }
   ],
   "source": [
    "start_date = input('Введите начальную дату в формате YYYY-MM-DD') #'2019-09-01', '2019-09-07'\n",
    "end_date = input('Введите конечную дату в формате YYYY-MM-DD')\n",
    "\n",
    "try:\n",
    "    start_date_dt = datetime.strptime(start_date, '%Y-%m-%d')\n",
    "    end_date_dt = datetime.strptime(end_date, '%Y-%m-%d')\n",
    "    \n",
    "    if start_date_dt > end_date_dt:\n",
    "        print('[]')\n",
    "    else:\n",
    "        current_dt = start_date_dt + timedelta(days=1)\n",
    "        while current_dt < end_date_dt:\n",
    "            print((current_dt.strftime('%d.%m.%Y')))\n",
    "    \n",
    "            current_dt += timedelta(days=1)\n",
    "except:\n",
    "    print('[]')"
   ]
  },
  {
   "cell_type": "code",
   "execution_count": 56,
   "metadata": {},
   "outputs": [
    {
     "name": "stdout",
     "output_type": "stream",
     "text": [
      "02.01.2019\n",
      "03.01.2019\n",
      "04.01.2019\n",
      "05.01.2019\n",
      "06.01.2019\n",
      "07.01.2019\n",
      "08.01.2019\n"
     ]
    }
   ],
   "source": [
    "def date_range(start_date, end_date):\n",
    "    try:\n",
    "        start_date_dt = datetime.strptime(start_date, '%Y-%m-%d')\n",
    "        end_date_dt = datetime.strptime(end_date, '%Y-%m-%d')\n",
    "    \n",
    "        if start_date_dt > end_date_dt:\n",
    "            print('[]')\n",
    "        else:\n",
    "            current_dt = start_date_dt + timedelta(days=1)\n",
    "            while current_dt < end_date_dt:\n",
    "                print((current_dt.strftime('%d.%m.%Y')))\n",
    "                \n",
    "                current_dt += timedelta(days=1)\n",
    "    except:\n",
    "        print('[]')\n",
    "    \n",
    "    return\n",
    "\n",
    "date_range('2019-01-01', '2019-01-09')"
   ]
  },
  {
   "cell_type": "code",
   "execution_count": 42,
   "metadata": {},
   "outputs": [],
   "source": [
    "import logging"
   ]
  },
  {
   "cell_type": "markdown",
   "metadata": {},
   "source": [
    "**Задание 3**\n",
    "* Дан поток дат в формате YYYY-MM-DD, в которых встречаются некорректные значения: stream\n",
    "* Напишите функцию, которая проверяет эти даты на корректность. Т. е. для каждой даты возвращает True (дата корректна) или False (некорректная дата)."
   ]
  },
  {
   "cell_type": "code",
   "execution_count": 5,
   "metadata": {},
   "outputs": [
    {
     "data": {
      "text/plain": [
       "['False', 'True', 'False']"
      ]
     },
     "execution_count": 5,
     "metadata": {},
     "output_type": "execute_result"
    }
   ],
   "source": [
    "stream = ['2018-04-02', '2018-02-29', '2018-19-02']\n",
    "def check_date(list_):\n",
    "    result = []\n",
    "    for i in range(len(list_)):\n",
    "        try:\n",
    "            list_[5:7] = '02'\n",
    "            if list_[i] > list_[i+1]:\n",
    "                result.append('False')\n",
    "            else:\n",
    "                result.append('True')\n",
    "        except:\n",
    "            result.append('False')\n",
    "    return result\n",
    "check_date(stream)"
   ]
  },
  {
   "cell_type": "markdown",
   "metadata": {},
   "source": [
    "**Задание 4**\n",
    "* Напишите функцию, которая возвращает список дат с 1 по вчерашний день текущего месяца. Если дан 1 день месяца, то возвращается список дней прошлого месяца."
   ]
  },
  {
   "cell_type": "code",
   "execution_count": 15,
   "metadata": {},
   "outputs": [
    {
     "name": "stdout",
     "output_type": "stream",
     "text": [
      "01.06.2019\n",
      "02.06.2019\n",
      "03.06.2019\n",
      "04.06.2019\n",
      "05.06.2019\n",
      "06.06.2019\n",
      "07.06.2019\n",
      "08.06.2019\n",
      "09.06.2019\n",
      "10.06.2019\n",
      "11.06.2019\n",
      "12.06.2019\n",
      "13.06.2019\n",
      "14.06.2019\n",
      "15.06.2019\n",
      "16.06.2019\n",
      "17.06.2019\n",
      "18.06.2019\n",
      "19.06.2019\n",
      "20.06.2019\n",
      "21.06.2019\n",
      "22.06.2019\n",
      "23.06.2019\n",
      "24.06.2019\n",
      "25.06.2019\n",
      "26.06.2019\n",
      "27.06.2019\n",
      "28.06.2019\n",
      "29.06.2019\n",
      "30.06.2019\n"
     ]
    }
   ],
   "source": [
    "def date_range(start_date, end_date):\n",
    "    start_date_dt = datetime.strptime(start_date, '%Y-%m-%d')\n",
    "    end_date_dt = datetime.strptime(end_date, '%Y-%m-%d')\n",
    "    \n",
    "    if start_date_dt == end_date_dt:\n",
    "        start_date_dt -= timedelta(days=31)\n",
    "        current_dt = start_date_dt\n",
    "        if current_dt.strftime('%d.%m.%Y') != current_dt.strftime('01.%m.%Y'):\n",
    "            current_dt += timedelta(days=1)\n",
    "        while current_dt < end_date_dt:\n",
    "            print((current_dt.strftime('%d.%m.%Y')))\n",
    "            current_dt += timedelta(days=1)\n",
    "    else:\n",
    "        current_dt = start_date_dt\n",
    "        while current_dt < end_date_dt:\n",
    "            print((current_dt.strftime('%d.%m.%Y')))\n",
    "                \n",
    "            current_dt += timedelta(days=1)\n",
    "    \n",
    "    return\n",
    "\n",
    "date_range('2019-07-01', '2019-07-01')"
   ]
  }
 ],
 "metadata": {
  "kernelspec": {
   "display_name": "Python 3",
   "language": "python",
   "name": "python3"
  },
  "language_info": {
   "codemirror_mode": {
    "name": "ipython",
    "version": 3
   },
   "file_extension": ".py",
   "mimetype": "text/x-python",
   "name": "python",
   "nbconvert_exporter": "python",
   "pygments_lexer": "ipython3",
   "version": "3.7.3"
  }
 },
 "nbformat": 4,
 "nbformat_minor": 2
}
