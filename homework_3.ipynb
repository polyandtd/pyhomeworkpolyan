{
 "cells": [
  {
   "cell_type": "markdown",
   "metadata": {},
   "source": [
    "**Задание 1**\n",
    "* Дан список вида: data. Напишите функцию, которая возвращает сумму элементов на диагонали. Т. е. 13+32+23+35.\n"
   ]
  },
  {
   "cell_type": "code",
   "execution_count": 1,
   "metadata": {},
   "outputs": [
    {
     "name": "stdout",
     "output_type": "stream",
     "text": [
      "103\n"
     ]
    }
   ],
   "source": [
    "data = [\n",
    "[13, 25, 23, 34],\n",
    "[45, 32, 44, 47],\n",
    "[12, 33, 23, 95],\n",
    "[13, 53, 34, 35],\n",
    "]\n",
    "cnt = 0\n",
    "for i in range(4):\n",
    "    y = int(data[i][i])\n",
    "    cnt+=y\n",
    "print(cnt)"
   ]
  },
  {
   "cell_type": "markdown",
   "metadata": {},
   "source": [
    "**Задание 2**\n",
    "* Дан список чисел, часть из которых имеют строковый тип или содержат буквы. Напишите функцию, которая возвращает сумму квадратов элементов, которые могут быть числами."
   ]
  },
  {
   "cell_type": "code",
   "execution_count": 2,
   "metadata": {},
   "outputs": [
    {
     "name": "stdout",
     "output_type": "stream",
     "text": [
      "430\n"
     ]
    }
   ],
   "source": [
    "data = [1, '5', 'abc', 20, '2']\n",
    "y = data[1]\n",
    "cnt = 0\n",
    "for i in range(5):\n",
    "    y = str(data[i])\n",
    "    if y.isdigit() == True:\n",
    "        cnt+= int(y)*int(y)\n",
    "print(cnt)"
   ]
  },
  {
   "cell_type": "markdown",
   "metadata": {},
   "source": [
    "**Задание 3**\n",
    "* Напишите функцию, которая возвращает название валюты (поле ‘Name’) с максимальным значением курса с помощью сервиса https://www.cbr-xml-daily.ru/daily_json.js"
   ]
  },
  {
   "cell_type": "code",
   "execution_count": 2,
   "metadata": {},
   "outputs": [],
   "source": [
    "import pandas as pd\n",
    "import json\n",
    "a = pd.read_json('https://www.cbr-xml-daily.ru/daily_json.js')"
   ]
  },
  {
   "cell_type": "code",
   "execution_count": 3,
   "metadata": {},
   "outputs": [
    {
     "data": {
      "text/plain": [
       "58.3964"
      ]
     },
     "execution_count": 3,
     "metadata": {},
     "output_type": "execute_result"
    }
   ],
   "source": [
    "a['Valute']['JPY']['Value']"
   ]
  },
  {
   "cell_type": "code",
   "execution_count": 4,
   "metadata": {},
   "outputs": [
    {
     "data": {
      "text/plain": [
       "Index(['AMD', 'AUD', 'AZN', 'BGN', 'BRL', 'BYN', 'CAD', 'CHF', 'CNY', 'CZK',\n",
       "       'DKK', 'EUR', 'GBP', 'HKD', 'HUF', 'INR', 'JPY', 'KGS', 'KRW', 'KZT',\n",
       "       'MDL', 'NOK', 'PLN', 'RON', 'SEK', 'SGD', 'TJS', 'TMT', 'TRY', 'UAH',\n",
       "       'USD', 'UZS', 'XDR', 'ZAR'],\n",
       "      dtype='object')"
      ]
     },
     "execution_count": 4,
     "metadata": {},
     "output_type": "execute_result"
    }
   ],
   "source": [
    "a['Valute'].keys()"
   ]
  },
  {
   "cell_type": "code",
   "execution_count": 5,
   "metadata": {},
   "outputs": [
    {
     "data": {
      "text/plain": [
       "94.632"
      ]
     },
     "execution_count": 5,
     "metadata": {},
     "output_type": "execute_result"
    }
   ],
   "source": [
    "def max_rate_show(data):\n",
    "    cnt = 0\n",
    "    keys_list = data['Valute'].keys()\n",
    "    for key in keys_list:\n",
    "        b = data['Valute'][key]['Value']\n",
    "        if b > cnt:\n",
    "            cnt = b\n",
    "    return cnt\n",
    "max_rate_show(a)"
   ]
  },
  {
   "cell_type": "code",
   "execution_count": 6,
   "metadata": {},
   "outputs": [
    {
     "data": {
      "text/plain": [
       "('Датских крон',\n",
       " {'ID': 'R01215',\n",
       "  'NumCode': '208',\n",
       "  'CharCode': 'DKK',\n",
       "  'Nominal': 10,\n",
       "  'Name': 'Датских крон',\n",
       "  'Value': 94.632,\n",
       "  'Previous': 94.7971})"
      ]
     },
     "execution_count": 6,
     "metadata": {},
     "output_type": "execute_result"
    }
   ],
   "source": [
    "def max_rate_show2(data):\n",
    "    cnt = 0\n",
    "    keys_list = data['Valute'].keys()\n",
    "    for key in keys_list:\n",
    "        b = data['Valute'][key]['Value']\n",
    "        if b > cnt:\n",
    "            cnt = b\n",
    "    for key in keys_list:\n",
    "        b = data['Valute'][key]['Value']\n",
    "        if cnt == b:\n",
    "            return data['Valute'][key]['Name'], data['Valute'][key]\n",
    "        \n",
    "        \n",
    "max_rate_show2(a)"
   ]
  },
  {
   "cell_type": "code",
   "execution_count": 7,
   "metadata": {},
   "outputs": [
    {
     "data": {
      "text/plain": [
       "('СДР (специальные права заимствования)',\n",
       " {'ID': 'R01589',\n",
       "  'NumCode': '960',\n",
       "  'CharCode': 'XDR',\n",
       "  'Nominal': 1,\n",
       "  'Name': 'СДР (специальные права заимствования)',\n",
       "  'Value': 87.1245,\n",
       "  'Previous': 86.8458})"
      ]
     },
     "execution_count": 7,
     "metadata": {},
     "output_type": "execute_result"
    }
   ],
   "source": [
    "def max_rate_show3(data):\n",
    "    cnt = 0\n",
    "    keys_list = data['Valute'].keys()\n",
    "    for key in keys_list:\n",
    "        nom = data['Valute'][key]['Nominal']\n",
    "        b = data['Valute'][key]['Value'] / nom\n",
    "        if b > cnt:\n",
    "            cnt = b\n",
    "    for key in keys_list:\n",
    "        b = data['Valute'][key]['Value']\n",
    "        if cnt == b:\n",
    "            return data['Valute'][key]['Name'], data['Valute'][key]\n",
    "max_rate_show3(a)"
   ]
  },
  {
   "cell_type": "markdown",
   "metadata": {},
   "source": [
    "**Задание 4**\n",
    "* Напишите функцию, возвращающую сумму первых n чисел Фибоначчи"
   ]
  },
  {
   "cell_type": "code",
   "execution_count": 11,
   "metadata": {},
   "outputs": [
    {
     "name": "stdout",
     "output_type": "stream",
     "text": [
      "1 1 2 3 5 "
     ]
    },
    {
     "data": {
      "text/plain": [
       "(5, 3)"
      ]
     },
     "execution_count": 11,
     "metadata": {},
     "output_type": "execute_result"
    }
   ],
   "source": [
    "#Напишите функцию, возвращающую сумму первых n чисел Фибоначчи\n",
    "def fib(k):\n",
    "    if k == 1:\n",
    "        print(1, end = ' ')\n",
    "        return (k, 0)\n",
    "    i, j = fib (k - 1)\n",
    "    print (i+j, end = ' ')\n",
    "    return (i+j, i)\n",
    "fib(5)"
   ]
  },
  {
   "cell_type": "markdown",
   "metadata": {},
   "source": [
    "**Задание 5**\n",
    "* Напишите функцию, преобразующую произвольный список вида [‘2018-01-01’, ‘yandex’, ‘cpc’, 100] в словарь {‘2018-01-01’: {‘yandex’: {‘cpc’: 100}}}"
   ]
  },
  {
   "cell_type": "code",
   "execution_count": 12,
   "metadata": {},
   "outputs": [
    {
     "name": "stdout",
     "output_type": "stream",
     "text": [
      "{'2018-01-01': {'yandex': {'cpc': 100}}}\n"
     ]
    }
   ],
   "source": [
    "list_ = ['2018-01-01', 'yandex', 'cpc', 100]\n",
    "def list_to_dict(data):\n",
    "    print({data[0]: {data[1]: {data[2]: data[3]}}})\n",
    "list_to_dict(list_)"
   ]
  }
 ],
 "metadata": {
  "kernelspec": {
   "display_name": "Python 3",
   "language": "python",
   "name": "python3"
  },
  "language_info": {
   "codemirror_mode": {
    "name": "ipython",
    "version": 3
   },
   "file_extension": ".py",
   "mimetype": "text/x-python",
   "name": "python",
   "nbconvert_exporter": "python",
   "pygments_lexer": "ipython3",
   "version": "3.7.3"
  }
 },
 "nbformat": 4,
 "nbformat_minor": 2
}
