{
 "cells": [
  {
   "cell_type": "code",
   "execution_count": 2,
   "metadata": {},
   "outputs": [],
   "source": [
    "import pandas as pd\n",
    "import seaborn as sns\n",
    "import matplotlib as plt"
   ]
  },
  {
   "cell_type": "code",
   "execution_count": 70,
   "metadata": {},
   "outputs": [],
   "source": [
    "from pylab import rcParams\n",
    "rcParams['figure.figsize'] = 16,8"
   ]
  },
  {
   "cell_type": "code",
   "execution_count": 120,
   "metadata": {},
   "outputs": [
    {
     "data": {
      "text/html": [
       "<div>\n",
       "<style scoped>\n",
       "    .dataframe tbody tr th:only-of-type {\n",
       "        vertical-align: middle;\n",
       "    }\n",
       "\n",
       "    .dataframe tbody tr th {\n",
       "        vertical-align: top;\n",
       "    }\n",
       "\n",
       "    .dataframe thead th {\n",
       "        text-align: right;\n",
       "    }\n",
       "</style>\n",
       "<table border=\"1\" class=\"dataframe\">\n",
       "  <thead>\n",
       "    <tr style=\"text-align: right;\">\n",
       "      <th></th>\n",
       "      <th>Покупатель</th>\n",
       "      <th>Сумма</th>\n",
       "      <th>Название фильма</th>\n",
       "      <th>Дата платежа</th>\n",
       "      <th>Магазин</th>\n",
       "    </tr>\n",
       "  </thead>\n",
       "  <tbody>\n",
       "    <tr>\n",
       "      <th>0</th>\n",
       "      <td>Peter Menard</td>\n",
       "      <td>7.99</td>\n",
       "      <td>Rules Human</td>\n",
       "      <td>2007-02-15 22:25:46</td>\n",
       "      <td>Магазин 1</td>\n",
       "    </tr>\n",
       "    <tr>\n",
       "      <th>1</th>\n",
       "      <td>Peter Menard</td>\n",
       "      <td>1.99</td>\n",
       "      <td>Majestic Floats</td>\n",
       "      <td>2007-02-16 17:23:14</td>\n",
       "      <td>Магазин 2</td>\n",
       "    </tr>\n",
       "    <tr>\n",
       "      <th>2</th>\n",
       "      <td>Peter Menard</td>\n",
       "      <td>7.99</td>\n",
       "      <td>Maiden Home</td>\n",
       "      <td>2007-02-16 22:41:45</td>\n",
       "      <td>Магазин 1</td>\n",
       "    </tr>\n",
       "    <tr>\n",
       "      <th>3</th>\n",
       "      <td>Peter Menard</td>\n",
       "      <td>2.99</td>\n",
       "      <td>Hyde Doctor</td>\n",
       "      <td>2007-02-19 19:39:56</td>\n",
       "      <td>Магазин 1</td>\n",
       "    </tr>\n",
       "    <tr>\n",
       "      <th>4</th>\n",
       "      <td>Peter Menard</td>\n",
       "      <td>7.99</td>\n",
       "      <td>Massacre Usual</td>\n",
       "      <td>2007-02-20 17:31:48</td>\n",
       "      <td>Магазин 1</td>\n",
       "    </tr>\n",
       "    <tr>\n",
       "      <th>5</th>\n",
       "      <td>Peter Menard</td>\n",
       "      <td>5.99</td>\n",
       "      <td>Annie Identity</td>\n",
       "      <td>2007-02-21 12:33:49</td>\n",
       "      <td>Магазин 1</td>\n",
       "    </tr>\n",
       "    <tr>\n",
       "      <th>6</th>\n",
       "      <td>Harold Martino</td>\n",
       "      <td>5.99</td>\n",
       "      <td>Wash Heavenly</td>\n",
       "      <td>2007-02-17 23:58:17</td>\n",
       "      <td>Магазин 2</td>\n",
       "    </tr>\n",
       "    <tr>\n",
       "      <th>7</th>\n",
       "      <td>Harold Martino</td>\n",
       "      <td>5.99</td>\n",
       "      <td>Lola Agent</td>\n",
       "      <td>2007-02-20 02:11:44</td>\n",
       "      <td>Магазин 2</td>\n",
       "    </tr>\n",
       "    <tr>\n",
       "      <th>8</th>\n",
       "      <td>Harold Martino</td>\n",
       "      <td>2.99</td>\n",
       "      <td>Identity Lover</td>\n",
       "      <td>2007-02-20 13:57:39</td>\n",
       "      <td>Магазин 2</td>\n",
       "    </tr>\n",
       "    <tr>\n",
       "      <th>9</th>\n",
       "      <td>Douglas Graf</td>\n",
       "      <td>4.99</td>\n",
       "      <td>Opposite Necklace</td>\n",
       "      <td>2007-02-16 00:10:50</td>\n",
       "      <td>Магазин 2</td>\n",
       "    </tr>\n",
       "  </tbody>\n",
       "</table>\n",
       "</div>"
      ],
      "text/plain": [
       "       Покупатель  Сумма    Название фильма         Дата платежа    Магазин\n",
       "0    Peter Menard   7.99        Rules Human  2007-02-15 22:25:46  Магазин 1\n",
       "1    Peter Menard   1.99    Majestic Floats  2007-02-16 17:23:14  Магазин 2\n",
       "2    Peter Menard   7.99        Maiden Home  2007-02-16 22:41:45  Магазин 1\n",
       "3    Peter Menard   2.99        Hyde Doctor  2007-02-19 19:39:56  Магазин 1\n",
       "4    Peter Menard   7.99     Massacre Usual  2007-02-20 17:31:48  Магазин 1\n",
       "5    Peter Menard   5.99     Annie Identity  2007-02-21 12:33:49  Магазин 1\n",
       "6  Harold Martino   5.99      Wash Heavenly  2007-02-17 23:58:17  Магазин 2\n",
       "7  Harold Martino   5.99         Lola Agent  2007-02-20 02:11:44  Магазин 2\n",
       "8  Harold Martino   2.99     Identity Lover  2007-02-20 13:57:39  Магазин 2\n",
       "9    Douglas Graf   4.99  Opposite Necklace  2007-02-16 00:10:50  Магазин 2"
      ]
     },
     "execution_count": 120,
     "metadata": {},
     "output_type": "execute_result"
    }
   ],
   "source": [
    "movies = pd.read_csv('sales.csv')\n",
    "movies.head(10)"
   ]
  },
  {
   "cell_type": "code",
   "execution_count": 121,
   "metadata": {},
   "outputs": [],
   "source": [
    "new_names = ['buyer', 'cost', 'movie_name', 'date_sold', 'shop']"
   ]
  },
  {
   "cell_type": "code",
   "execution_count": 122,
   "metadata": {},
   "outputs": [],
   "source": [
    "movies.set_axis(new_names, axis = 'columns', inplace = True)"
   ]
  },
  {
   "cell_type": "code",
   "execution_count": 123,
   "metadata": {},
   "outputs": [
    {
     "data": {
      "text/html": [
       "<div>\n",
       "<style scoped>\n",
       "    .dataframe tbody tr th:only-of-type {\n",
       "        vertical-align: middle;\n",
       "    }\n",
       "\n",
       "    .dataframe tbody tr th {\n",
       "        vertical-align: top;\n",
       "    }\n",
       "\n",
       "    .dataframe thead th {\n",
       "        text-align: right;\n",
       "    }\n",
       "</style>\n",
       "<table border=\"1\" class=\"dataframe\">\n",
       "  <thead>\n",
       "    <tr style=\"text-align: right;\">\n",
       "      <th></th>\n",
       "      <th>buyer</th>\n",
       "      <th>cost</th>\n",
       "      <th>movie_name</th>\n",
       "      <th>date_sold</th>\n",
       "      <th>shop</th>\n",
       "    </tr>\n",
       "  </thead>\n",
       "  <tbody>\n",
       "    <tr>\n",
       "      <th>0</th>\n",
       "      <td>Peter Menard</td>\n",
       "      <td>7.99</td>\n",
       "      <td>Rules Human</td>\n",
       "      <td>2007-02-15 22:25:46</td>\n",
       "      <td>Магазин 1</td>\n",
       "    </tr>\n",
       "    <tr>\n",
       "      <th>1</th>\n",
       "      <td>Peter Menard</td>\n",
       "      <td>1.99</td>\n",
       "      <td>Majestic Floats</td>\n",
       "      <td>2007-02-16 17:23:14</td>\n",
       "      <td>Магазин 2</td>\n",
       "    </tr>\n",
       "    <tr>\n",
       "      <th>2</th>\n",
       "      <td>Peter Menard</td>\n",
       "      <td>7.99</td>\n",
       "      <td>Maiden Home</td>\n",
       "      <td>2007-02-16 22:41:45</td>\n",
       "      <td>Магазин 1</td>\n",
       "    </tr>\n",
       "    <tr>\n",
       "      <th>3</th>\n",
       "      <td>Peter Menard</td>\n",
       "      <td>2.99</td>\n",
       "      <td>Hyde Doctor</td>\n",
       "      <td>2007-02-19 19:39:56</td>\n",
       "      <td>Магазин 1</td>\n",
       "    </tr>\n",
       "    <tr>\n",
       "      <th>4</th>\n",
       "      <td>Peter Menard</td>\n",
       "      <td>7.99</td>\n",
       "      <td>Massacre Usual</td>\n",
       "      <td>2007-02-20 17:31:48</td>\n",
       "      <td>Магазин 1</td>\n",
       "    </tr>\n",
       "  </tbody>\n",
       "</table>\n",
       "</div>"
      ],
      "text/plain": [
       "          buyer  cost       movie_name            date_sold       shop\n",
       "0  Peter Menard  7.99      Rules Human  2007-02-15 22:25:46  Магазин 1\n",
       "1  Peter Menard  1.99  Majestic Floats  2007-02-16 17:23:14  Магазин 2\n",
       "2  Peter Menard  7.99      Maiden Home  2007-02-16 22:41:45  Магазин 1\n",
       "3  Peter Menard  2.99      Hyde Doctor  2007-02-19 19:39:56  Магазин 1\n",
       "4  Peter Menard  7.99   Massacre Usual  2007-02-20 17:31:48  Магазин 1"
      ]
     },
     "execution_count": 123,
     "metadata": {},
     "output_type": "execute_result"
    }
   ],
   "source": [
    "movies.head()"
   ]
  },
  {
   "cell_type": "code",
   "execution_count": 124,
   "metadata": {},
   "outputs": [
    {
     "data": {
      "text/html": [
       "<div>\n",
       "<style scoped>\n",
       "    .dataframe tbody tr th:only-of-type {\n",
       "        vertical-align: middle;\n",
       "    }\n",
       "\n",
       "    .dataframe tbody tr th {\n",
       "        vertical-align: top;\n",
       "    }\n",
       "\n",
       "    .dataframe thead th {\n",
       "        text-align: right;\n",
       "    }\n",
       "</style>\n",
       "<table border=\"1\" class=\"dataframe\">\n",
       "  <thead>\n",
       "    <tr style=\"text-align: right;\">\n",
       "      <th></th>\n",
       "      <th>cost</th>\n",
       "      <th>movie_name</th>\n",
       "    </tr>\n",
       "  </thead>\n",
       "  <tbody>\n",
       "    <tr>\n",
       "      <th>0</th>\n",
       "      <td>7.99</td>\n",
       "      <td>Rules Human</td>\n",
       "    </tr>\n",
       "    <tr>\n",
       "      <th>1</th>\n",
       "      <td>1.99</td>\n",
       "      <td>Majestic Floats</td>\n",
       "    </tr>\n",
       "    <tr>\n",
       "      <th>2</th>\n",
       "      <td>7.99</td>\n",
       "      <td>Maiden Home</td>\n",
       "    </tr>\n",
       "    <tr>\n",
       "      <th>3</th>\n",
       "      <td>2.99</td>\n",
       "      <td>Hyde Doctor</td>\n",
       "    </tr>\n",
       "    <tr>\n",
       "      <th>4</th>\n",
       "      <td>7.99</td>\n",
       "      <td>Massacre Usual</td>\n",
       "    </tr>\n",
       "  </tbody>\n",
       "</table>\n",
       "</div>"
      ],
      "text/plain": [
       "   cost       movie_name\n",
       "0  7.99      Rules Human\n",
       "1  1.99  Majestic Floats\n",
       "2  7.99      Maiden Home\n",
       "3  2.99      Hyde Doctor\n",
       "4  7.99   Massacre Usual"
      ]
     },
     "execution_count": 124,
     "metadata": {},
     "output_type": "execute_result"
    }
   ],
   "source": [
    "movies2 = movies.loc[:, 'cost':'movie_name']\n",
    "movies2.head()"
   ]
  },
  {
   "cell_type": "code",
   "execution_count": 125,
   "metadata": {},
   "outputs": [
    {
     "data": {
      "text/html": [
       "<div>\n",
       "<style scoped>\n",
       "    .dataframe tbody tr th:only-of-type {\n",
       "        vertical-align: middle;\n",
       "    }\n",
       "\n",
       "    .dataframe tbody tr th {\n",
       "        vertical-align: top;\n",
       "    }\n",
       "\n",
       "    .dataframe thead th {\n",
       "        text-align: right;\n",
       "    }\n",
       "</style>\n",
       "<table border=\"1\" class=\"dataframe\">\n",
       "  <thead>\n",
       "    <tr style=\"text-align: right;\">\n",
       "      <th></th>\n",
       "      <th>cost</th>\n",
       "    </tr>\n",
       "    <tr>\n",
       "      <th>movie_name</th>\n",
       "      <th></th>\n",
       "    </tr>\n",
       "  </thead>\n",
       "  <tbody>\n",
       "    <tr>\n",
       "      <th>Telegraph Voyage</th>\n",
       "      <td>215.75</td>\n",
       "    </tr>\n",
       "    <tr>\n",
       "      <th>Zorro Ark</th>\n",
       "      <td>199.72</td>\n",
       "    </tr>\n",
       "    <tr>\n",
       "      <th>Wife Turn</th>\n",
       "      <td>198.73</td>\n",
       "    </tr>\n",
       "    <tr>\n",
       "      <th>Innocent Usual</th>\n",
       "      <td>191.74</td>\n",
       "    </tr>\n",
       "    <tr>\n",
       "      <th>Hustler Party</th>\n",
       "      <td>190.78</td>\n",
       "    </tr>\n",
       "  </tbody>\n",
       "</table>\n",
       "</div>"
      ],
      "text/plain": [
       "                    cost\n",
       "movie_name              \n",
       "Telegraph Voyage  215.75\n",
       "Zorro Ark         199.72\n",
       "Wife Turn         198.73\n",
       "Innocent Usual    191.74\n",
       "Hustler Party     190.78"
      ]
     },
     "execution_count": 125,
     "metadata": {},
     "output_type": "execute_result"
    }
   ],
   "source": [
    "task1 = movies2.groupby('movie_name').sum().sort_values(by = 'cost', ascending = False).head()\n",
    "task1"
   ]
  },
  {
   "cell_type": "markdown",
   "metadata": {},
   "source": [
    "Делать pie-chart со всеми фильмами просто бессмысленно - там 900 с лишним строк, поэтому ограничился пятью"
   ]
  },
  {
   "cell_type": "code",
   "execution_count": 126,
   "metadata": {},
   "outputs": [
    {
     "data": {
      "text/plain": [
       "<matplotlib.axes._subplots.AxesSubplot at 0x1959f278fd0>"
      ]
     },
     "execution_count": 126,
     "metadata": {},
     "output_type": "execute_result"
    },
    {
     "data": {
      "image/png": "[encoded data removed]",
      "text/plain": [
       "<Figure size 1152x576 with 1 Axes>"
      ]
     },
     "metadata": {},
     "output_type": "display_data"
    }
   ],
   "source": [
    "task1.plot(kind='pie', y = 'cost')"
   ]
  },
  {
   "cell_type": "code",
   "execution_count": 130,
   "metadata": {},
   "outputs": [
    {
     "data": {
      "text/plain": [
       "movie_name\n",
       "Telegraph Voyage    121.86\n",
       "Whale Bikini        113.85\n",
       "Sunrise League      109.85\n",
       "Zorro Ark           108.85\n",
       "Fool Mockingbird    104.86\n",
       "Name: cost, dtype: float64"
      ]
     },
     "execution_count": 130,
     "metadata": {},
     "output_type": "execute_result"
    }
   ],
   "source": [
    "task2_1 = movies[movies['shop'] == 'Магазин 1'].groupby('movie_name').sum().cost.sort_values(ascending = False).head()\n",
    "task2_1"
   ]
  },
  {
   "cell_type": "code",
   "execution_count": 131,
   "metadata": {},
   "outputs": [
    {
     "data": {
      "text/plain": [
       "movie_name\n",
       "Teen Apollo           109.86\n",
       "Virtual Spoilers      105.87\n",
       "Strangers Graffiti    104.86\n",
       "Lola Agent            104.84\n",
       "Show Lord             102.85\n",
       "Name: cost, dtype: float64"
      ]
     },
     "execution_count": 131,
     "metadata": {},
     "output_type": "execute_result"
    }
   ],
   "source": [
    "task2_2 = movies[movies['shop'] == 'Магазин 2'].groupby('movie_name').sum().cost.sort_values(ascending = False).head()\n",
    "task2_2"
   ]
  }
 ],
 "metadata": {
  "kernelspec": {
   "display_name": "Python 3",
   "language": "python",
   "name": "python3"
  },
  "language_info": {
   "codemirror_mode": {
    "name": "ipython",
    "version": 3
   },
   "file_extension": ".py",
   "mimetype": "text/x-python",
   "name": "python",
   "nbconvert_exporter": "python",
   "pygments_lexer": "ipython3",
   "version": "3.7.3"
  }
 },
 "nbformat": 4,
 "nbformat_minor": 2
}
